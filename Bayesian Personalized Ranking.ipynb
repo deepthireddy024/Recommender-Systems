{
 "cells": [
  {
   "cell_type": "code",
   "execution_count": null,
   "id": "cdb1b7aa",
   "metadata": {},
   "outputs": [],
   "source": [
    "import gzip\n",
    "from collections import defaultdict\n",
    "import math\n",
    "import scipy.optimize\n",
    "from sklearn import svm\n",
    "import numpy\n",
    "import string\n",
    "import random\n",
    "import string\n",
    "from sklearn import linear_model\n",
    "import gzip\n",
    "import random\n",
    "import scipy\n",
    "#import tensorflow as tf\n",
    "from collections import defaultdict\n",
    "from implicit import bpr\n",
    "from surprise import SVD, Reader, Dataset\n",
    "from surprise.model_selection import train_test_split\n",
    "from implicit.cpu.lmf import LogisticMatrixFactorization\n",
    "from implicit.cpu.als import AlternatingLeastSquares"
   ]
  },
  {
   "cell_type": "code",
   "execution_count": null,
   "id": "944d5a51",
   "metadata": {},
   "outputs": [],
   "source": [
    "def readJSON(path):\n",
    "    #f = gzip.open(path, 'rt')\n",
    "    f = open(path)\n",
    "    f.readline()\n",
    "    for l in f:\n",
    "        d = eval(l)\n",
    "        u = d['userID']\n",
    "        g = d['gameID']\n",
    "        yield u,g,d"
   ]
  },
  {
   "cell_type": "code",
   "execution_count": null,
   "id": "5426b884",
   "metadata": {},
   "outputs": [],
   "source": [
    "data = []\n",
    "for l in readJSON(\"train.json\"):\n",
    "    data.append(l)"
   ]
  },
  {
   "cell_type": "code",
   "execution_count": null,
   "id": "222eca19",
   "metadata": {},
   "outputs": [],
   "source": [
    "random.shuffle(data)"
   ]
  },
  {
   "cell_type": "code",
   "execution_count": null,
   "id": "0f807ee9",
   "metadata": {},
   "outputs": [],
   "source": [
    "train = data[:165000]\n",
    "valid = data[165000:]"
   ]
  },
  {
   "cell_type": "code",
   "execution_count": null,
   "id": "176a2a1f",
   "metadata": {},
   "outputs": [],
   "source": [
    "userIDs,itemIDs = {},{}\n",
    "\n",
    "for u,i,_ in train:\n",
    "    #u,i = d['user_id'],d['book_id']\n",
    "    if not u in userIDs: userIDs[u] = len(userIDs)\n",
    "    if not i in itemIDs: itemIDs[i] = len(itemIDs)\n",
    "\n",
    "nUsers,nItems = len(userIDs),len(itemIDs)"
   ]
  },
  {
   "cell_type": "code",
   "execution_count": null,
   "id": "c8d5c660",
   "metadata": {},
   "outputs": [],
   "source": [
    "nUsers,nItems"
   ]
  },
  {
   "cell_type": "code",
   "execution_count": null,
   "id": "efd1f9b2",
   "metadata": {},
   "outputs": [],
   "source": [
    "Xui = scipy.sparse.lil_matrix((nUsers, nItems))\n",
    "for u,g,_ in train:\n",
    "    Xui[userIDs[u],itemIDs[g]] = 1\n",
    "    \n",
    "Xui_csr = scipy.sparse.csr_matrix(Xui)"
   ]
  },
  {
   "cell_type": "code",
   "execution_count": null,
   "id": "261a36ce",
   "metadata": {},
   "outputs": [],
   "source": [
    "model = bpr.BayesianPersonalizedRanking(factors = 10)"
   ]
  },
  {
   "cell_type": "code",
   "execution_count": null,
   "id": "727eb034",
   "metadata": {},
   "outputs": [],
   "source": [
    "model.fit(Xui_csr)"
   ]
  },
  {
   "cell_type": "code",
   "execution_count": null,
   "id": "11e6be4b",
   "metadata": {},
   "outputs": [],
   "source": [
    "ids, scores = model.recommend(0, Xui_csr[0],N=20)\n",
    "# print(ids)\n",
    "# print(scores)"
   ]
  },
  {
   "cell_type": "code",
   "execution_count": null,
   "id": "a12ef1cd",
   "metadata": {},
   "outputs": [],
   "source": [
    "# usersPerGame = defaultdict(list)\n",
    "# gamesPerUser = defaultdict(list)\n",
    "# for user,game,_ in data:\n",
    "#     usersPerGame[game].append(user)\n",
    "#      gamesPerUser[user].append(game)\n",
    "# games = list(usersPerGame.keys())\n",
    "# users = list(gamesPerUser.keys())"
   ]
  },
  {
   "cell_type": "code",
   "execution_count": null,
   "id": "fa105f77",
   "metadata": {},
   "outputs": [],
   "source": [
    "newValid = []\n",
    "falseSamples = defaultdict(list)\n",
    "for u,g,_ in valid:\n",
    "    newValid.append([u,g,1])\n",
    "    res = random.choice([ele for ele in games if ele not in gamesPerUser[u]+falseSamples[u]])\n",
    "    falseSamples[u].append(res)\n",
    "    newValid.append([u,res,0])"
   ]
  },
  {
   "cell_type": "code",
   "execution_count": null,
   "id": "f1fdeae2",
   "metadata": {},
   "outputs": [],
   "source": [
    "model = LogisticMatrixFactorization(factors = 10,regularization = 10)"
   ]
  },
  {
   "cell_type": "code",
   "execution_count": null,
   "id": "844b4c05",
   "metadata": {},
   "outputs": [],
   "source": [
    "model.fit(Xui_csr)"
   ]
  },
  {
   "cell_type": "code",
   "execution_count": null,
   "id": "2c668d76",
   "metadata": {},
   "outputs": [],
   "source": [
    "model.recommend(0, Xui_csr[0],N=20)"
   ]
  },
  {
   "cell_type": "code",
   "execution_count": null,
   "id": "470fb454",
   "metadata": {},
   "outputs": [],
   "source": [
    "features = []\n",
    "y = []\n",
    "for j in range(len(newTrain)):\n",
    "    u = newTrain[j][0]\n",
    "    i = newTrain[j][1]\n",
    "    l = newTrain[j][2]\n",
    "    y.append(l)\n",
    "    temp = [1]\n",
    "#     uid = userIDs[u]\n",
    "#     ids, scores = model.recommend(uid, Xui_csr[uid],N=nItems)\n",
    "    #print(scores)\n",
    "#     if (itemIDs[i] in list(ids)) and (scores[list(ids).index(itemIDs[i])]>=0):\n",
    "    #if (scores[list(ids).index(itemIDs[i])]>=0):\n",
    "#         pred.append(1)\n",
    "#     else:\n",
    "#         pred.append(0)\n",
    "    a = 0\n",
    "    if u in userIDs:\n",
    "        uid = userIDs[u] \n",
    "        ids, scores = model.recommend(uid, Xui_csr[uid],N=nItems)\n",
    "        a = scores[list(ids).index(itemIDs[i])]\n",
    "        \n",
    "    temp.append(a)\n",
    "    temp.append(max_sims[j])\n",
    "    features.append(temp)\n",
    "# cor = 0\n",
    "# tot = 0\n",
    "# for i in range(len(y)):\n",
    "#     if(y[i]==pred[i]):\n",
    "#         cor+=1\n",
    "#     tot+=1\n",
    "# cor/tot"
   ]
  },
  {
   "cell_type": "code",
   "execution_count": null,
   "id": "60b5b4e4",
   "metadata": {},
   "outputs": [],
   "source": [
    "model1 = linear_model.LogisticRegression(C=1,max_iter=500)\n",
    "model1.fit(features,y)\n",
    "pred = model1.predict(features)\n",
    "accuracy = sum(pred==y)/len(y)\n",
    "accuracy"
   ]
  },
  {
   "cell_type": "code",
   "execution_count": null,
   "id": "30ffd584",
   "metadata": {},
   "outputs": [],
   "source": [
    "features = []\n",
    "y = []\n",
    "for j in range(len(newValid)):\n",
    "    u = newValid[j][0]\n",
    "    i = newValid[j][1]\n",
    "    l = newValid[j][2]\n",
    "    y.append(l)\n",
    "    temp = [1]\n",
    "    if u in userIDs:\n",
    "        uid = userIDs[u] \n",
    "        ids, scores = model.recommend(uid, Xui_csr[uid],N=nItems)\n",
    "        a = scores[list(ids).index(itemIDs[i])]\n",
    "        \n",
    "    temp.append(a)\n",
    "    temp.append(max_sims_valid[j])\n",
    "    features.append(temp)"
   ]
  },
  {
   "cell_type": "code",
   "execution_count": null,
   "id": "b8d1f3ad",
   "metadata": {},
   "outputs": [],
   "source": [
    "pred = model1.predict(features)\n",
    "accuracy = sum(pred==y)/len(y)\n",
    "accuracy"
   ]
  },
  {
   "cell_type": "code",
   "execution_count": null,
   "id": "4ba744fb",
   "metadata": {},
   "outputs": [],
   "source": [
    "predictions = open(\"predictions_Played.csv\", 'w')\n",
    "for l in open(\"pairs_Played.csv\"):\n",
    "    if l.startswith(\"userID\"):\n",
    "        predictions.write(l)\n",
    "        continue\n",
    "    u,g = l.strip().split(',')\n",
    "    \n",
    "    gamesByUser = gamesPerUserTrain[u]\n",
    "    users = usersPerGameTrain[g]\n",
    "    max_sim = 0\n",
    "    \n",
    "    for g_ in gamesByUser:\n",
    "        if (g_==g): continue\n",
    "        sim = Jaccard(users, usersPerGameTrain[g_])\n",
    "        max_sim = max(max_sim,sim)\n",
    "    \n",
    "    a = 0\n",
    "    if u in userIDs:\n",
    "        uid = userIDs[u] \n",
    "        ids, scores = model.recommend(uid, Xui_csr[uid],N=nItems)\n",
    "        a = scores[list(ids).index(itemIDs[i])]\n",
    "    \n",
    "    pred = model1.predict([[1,a,max_sim]])[0]\n",
    "    \n",
    "    _ = predictions.write(u + ',' + g + ',' + str(pred) + '\\n')\n",
    "\n",
    "predictions.close()"
   ]
  },
  {
   "cell_type": "code",
   "execution_count": null,
   "id": "c5092853",
   "metadata": {},
   "outputs": [],
   "source": [
    "usersPerGameTrain = defaultdict(set)\n",
    "gamesPerUserTrain = defaultdict(set)\n",
    "for user,game,_ in train:\n",
    "    usersPerGameTrain[game].add(user)\n",
    "    gamesPerUserTrain[user].add(game)\n",
    "gamesTrain = list(usersPerGameTrain.keys())\n",
    "usersTrain = list(gamesPerUserTrain.keys())"
   ]
  },
  {
   "cell_type": "code",
   "execution_count": null,
   "id": "6132655b",
   "metadata": {},
   "outputs": [],
   "source": [
    "def Jaccard(s1, s2):\n",
    "    numer = len(s1.intersection(s2))\n",
    "    denom = len(s1.union(s2))\n",
    "    if denom == 0:\n",
    "        return 0\n",
    "    return numer / denom"
   ]
  },
  {
   "cell_type": "code",
   "execution_count": null,
   "id": "7307fbda",
   "metadata": {},
   "outputs": [],
   "source": [
    "max_sims_valid = []\n",
    "for i in range(len(newValid)):\n",
    "    u = newValid[i][0]\n",
    "    g = newValid[i][1]\n",
    "    gamesByUser = gamesPerUserTrain[u]\n",
    "    users = usersPerGameTrain[g]\n",
    "    max_sim = 0\n",
    "    \n",
    "    for g_ in gamesByUser:\n",
    "        if (g_==g): continue\n",
    "        sim = Jaccard(users, usersPerGameTrain[g_])\n",
    "        max_sim = max(max_sim,sim)\n",
    "    max_sims_valid.append(max_sim)"
   ]
  },
  {
   "cell_type": "code",
   "execution_count": null,
   "id": "89718fb0",
   "metadata": {},
   "outputs": [],
   "source": [
    "newTrain = []\n",
    "falseSamples = defaultdict(list)\n",
    "for u,g,_ in train:\n",
    "    newTrain.append([u,g,1])\n",
    "    res = random.choice([ele for ele in games if ele not in gamesPerUser[u]+falseSamples[u]])\n",
    "    falseSamples[u].append(res)\n",
    "    newTrain.append([u,res,0])"
   ]
  },
  {
   "cell_type": "code",
   "execution_count": null,
   "id": "2608d2fa",
   "metadata": {},
   "outputs": [],
   "source": [
    "max_sims = []\n",
    "for i in range(len(newTrain)):\n",
    "    u = newTrain[i][0]\n",
    "    g = newTrain[i][1]\n",
    "    gamesByUser = gamesPerUserTrain[u]\n",
    "    users = usersPerGameTrain[g]\n",
    "    max_sim = 0\n",
    "    \n",
    "    for g_ in gamesByUser:\n",
    "        if (g_==g): continue\n",
    "        sim = Jaccard(users, usersPerGameTrain[g_])\n",
    "        max_sim = max(max_sim,sim)\n",
    "    max_sims.append(max_sim)"
   ]
  }
 ],
 "metadata": {
  "kernelspec": {
   "display_name": "Python 3 (ipykernel)",
   "language": "python",
   "name": "python3"
  },
  "language_info": {
   "codemirror_mode": {
    "name": "ipython",
    "version": 3
   },
   "file_extension": ".py",
   "mimetype": "text/x-python",
   "name": "python",
   "nbconvert_exporter": "python",
   "pygments_lexer": "ipython3",
   "version": "3.11.5"
  }
 },
 "nbformat": 4,
 "nbformat_minor": 5
}
