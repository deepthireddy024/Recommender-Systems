{
 "cells": [
  {
   "cell_type": "code",
   "execution_count": 1,
   "id": "9949fce3",
   "metadata": {},
   "outputs": [],
   "source": [
    "import random\n",
    "import pandas as pd\n",
    "from surprise.model_selection import KFold\n",
    "from surprise import Dataset, SVD, SVDpp\n",
    "from surprise.model_selection import GridSearchCV\n",
    "from surprise import KNNBasic\n",
    "from surprise import SVD, Reader, Dataset, accuracy\n",
    "from surprise.model_selection import train_test_split\n",
    "import numpy"
   ]
  },
  {
   "cell_type": "code",
   "execution_count": 2,
   "id": "b7ae97f9",
   "metadata": {},
   "outputs": [],
   "source": [
    "userIDs = {}\n",
    "gameIDs = {}\n",
    "interactions = []\n",
    "\n",
    "f = open(\"train.json\")\n",
    "f.readline()\n",
    "for l in f:\n",
    "    d = eval(l)\n",
    "    u = d['userID']\n",
    "    g = d['gameID']\n",
    "    h = d['hours_transformed']\n",
    "    if not u in userIDs: userIDs[u] = len(userIDs)\n",
    "    if not g in gameIDs: gameIDs[g] = len(gameIDs)\n",
    "    interactions.append((u,g,h))"
   ]
  },
  {
   "cell_type": "code",
   "execution_count": 3,
   "id": "7dde1b0f",
   "metadata": {},
   "outputs": [],
   "source": [
    "random.shuffle(interactions)"
   ]
  },
  {
   "cell_type": "code",
   "execution_count": 4,
   "id": "738cff8d",
   "metadata": {},
   "outputs": [],
   "source": [
    "nTrain = int(len(interactions) * 0.9)\n",
    "nTest = len(interactions) - nTrain\n",
    "interactionsTrain = interactions[:nTrain]\n",
    "interactionsTest = interactions[nTrain:]"
   ]
  },
  {
   "cell_type": "code",
   "execution_count": 5,
   "id": "172b3203",
   "metadata": {},
   "outputs": [],
   "source": [
    "df = pd.DataFrame(interactionsTrain,columns = [\"userID\",\"gameID\",\"hours\"])"
   ]
  },
  {
   "cell_type": "code",
   "execution_count": 6,
   "id": "ee27264a",
   "metadata": {},
   "outputs": [
    {
     "data": {
      "text/plain": [
       "gameID\n",
       "g10701910      7\n",
       "g17749950      7\n",
       "g67585399      8\n",
       "g41077930      8\n",
       "g29170259      9\n",
       "            ... \n",
       "g11862712    671\n",
       "g40499587    713\n",
       "g75228197    803\n",
       "g05463839    847\n",
       "g10773791    993\n",
       "Name: userID, Length: 2437, dtype: int64"
      ]
     },
     "execution_count": 6,
     "metadata": {},
     "output_type": "execute_result"
    }
   ],
   "source": [
    "dis1 = df.groupby('gameID')['userID'].count().sort_values()#.clip(upper=50)\n",
    "dis1"
   ]
  },
  {
   "cell_type": "code",
   "execution_count": 7,
   "id": "a89aa3ca",
   "metadata": {},
   "outputs": [
    {
     "data": {
      "text/plain": [
       "userID\n",
       "u68490160      1\n",
       "u49097895      1\n",
       "u99532246      1\n",
       "u91746794      1\n",
       "u22588287      1\n",
       "            ... \n",
       "u61683676    178\n",
       "u04495704    189\n",
       "u04893836    194\n",
       "u22405118    206\n",
       "u88835772    212\n",
       "Name: gameID, Length: 6708, dtype: int64"
      ]
     },
     "execution_count": 7,
     "metadata": {},
     "output_type": "execute_result"
    }
   ],
   "source": [
    "dis2 = df.groupby('userID')['gameID'].count().sort_values()#.clip(upper=50)\n",
    "dis2"
   ]
  },
  {
   "cell_type": "code",
   "execution_count": 8,
   "id": "3bc369ba",
   "metadata": {},
   "outputs": [],
   "source": [
    "min_book_ratings = 10\n",
    "filter_books = df['gameID'].value_counts() > min_book_ratings\n",
    "filter_books = filter_books[filter_books].index.tolist()\n",
    "\n",
    "min_user_ratings = 10\n",
    "filter_users = df['userID'].value_counts() > min_user_ratings\n",
    "filter_users = filter_users[filter_users].index.tolist()"
   ]
  },
  {
   "cell_type": "code",
   "execution_count": 9,
   "id": "94a9ac61",
   "metadata": {},
   "outputs": [],
   "source": [
    "df_new = df[(df['gameID'].isin(filter_books)) & (df['userID'].isin(filter_users))]"
   ]
  },
  {
   "cell_type": "code",
   "execution_count": 10,
   "id": "950ac3d0",
   "metadata": {},
   "outputs": [],
   "source": [
    "\n",
    "reader = Reader()\n",
    "data = Dataset.load_from_df(df_new, reader=reader)"
   ]
  },
  {
   "cell_type": "code",
   "execution_count": 15,
   "id": "8950b859",
   "metadata": {},
   "outputs": [
    {
     "name": "stdout",
     "output_type": "stream",
     "text": [
      "1.847527899718526\n",
      "{'n_epochs': 10, 'lr_all': 0.01, 'reg_all': 0.1}\n"
     ]
    }
   ],
   "source": [
    "param_grid = {\"n_epochs\": [10], \"lr_all\": [0.1,0.01,0.001], \"reg_all\": [0.1,0.01,0.001,0.0001,0.00001]}#,0.4, 0.6, 0.8]}\n",
    "gs = GridSearchCV(SVDpp, param_grid, measures=[\"rmse\"], cv=5)\n",
    "\n",
    "gs.fit(data)\n",
    "\n",
    "# best RMSE score\n",
    "print(gs.best_score[\"rmse\"])\n",
    "\n",
    "# combination of parameters that gave the best RMSE score\n",
    "print(gs.best_params[\"rmse\"])"
   ]
  },
  {
   "cell_type": "code",
   "execution_count": 16,
   "id": "3f413a5a",
   "metadata": {},
   "outputs": [
    {
     "data": {
      "text/plain": [
       "<surprise.prediction_algorithms.matrix_factorization.SVDpp at 0x11faeb950>"
      ]
     },
     "execution_count": 16,
     "metadata": {},
     "output_type": "execute_result"
    }
   ],
   "source": [
    "algo = gs.best_estimator[\"rmse\"]\n",
    "algo.fit(data.build_full_trainset())"
   ]
  },
  {
   "cell_type": "code",
   "execution_count": 17,
   "id": "6a860ac3",
   "metadata": {},
   "outputs": [
    {
     "data": {
      "text/plain": [
       "3.342435326720206"
      ]
     },
     "execution_count": 17,
     "metadata": {},
     "output_type": "execute_result"
    }
   ],
   "source": [
    "preds = []\n",
    "y = []\n",
    "for u,g,h in interactionsTest:\n",
    "    preds.append(algo.predict(u, g).est)\n",
    "    y.append(h)\n",
    "numpy.mean(numpy.square(numpy.array(y) - numpy.array(preds)))"
   ]
  },
  {
   "cell_type": "code",
   "execution_count": null,
   "id": "80d4043d",
   "metadata": {},
   "outputs": [],
   "source": []
  }
 ],
 "metadata": {
  "kernelspec": {
   "display_name": "Python 3 (ipykernel)",
   "language": "python",
   "name": "python3"
  },
  "language_info": {
   "codemirror_mode": {
    "name": "ipython",
    "version": 3
   },
   "file_extension": ".py",
   "mimetype": "text/x-python",
   "name": "python",
   "nbconvert_exporter": "python",
   "pygments_lexer": "ipython3",
   "version": "3.11.5"
  }
 },
 "nbformat": 4,
 "nbformat_minor": 5
}
